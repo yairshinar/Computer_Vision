{
 "cells": [
  {
   "cell_type": "code",
   "execution_count": 1,
   "metadata": {},
   "outputs": [],
   "source": [
    "class Region:\n",
    "    def __init__(self,x,y):\n",
    "        self.pixels = [(x, y)]\n",
    "        self.min_x = x\n",
    "        self.min_y = y\n",
    "        self.max_x = x\n",
    "        self.max_y = y\n",
    "    \n",
    "    def add(self, x, y):\n",
    "        self.pixels.append((x, y))\n",
    "        self.min_x = min(self.min_x, x)\n",
    "        self.max_x = max(self.max_x, x)\n",
    "        self.min_y = min(self.min_y, y)\n",
    "        self.max_y = max(self.max_y, y)\n",
    "\n",
    "    def box(self):\n",
    "        return [(self.min_x, self.min_y), (self.max_x, self.max_y)]"
   ]
  },
  {
   "cell_type": "code",
   "execution_count": 2,
   "metadata": {},
   "outputs": [],
   "source": [
    "import numpy as np\n",
    "def morph(matrix, operator=np.min,nx = 3,ny=3):\n",
    "    new_matrix = np.zeros(matrix.shape)\n",
    "    for x in range(matrix.shape[0]):\n",
    "        for y in range(matrix.shape[1]):\n",
    "            neighbours_list = matrix[max(x-nx, 0) : min(x+nx+1, matrix.shape[0]), max(y-ny, 0) : min(y+ny+1, matrix.shape[1])]\n",
    "            new_matrix[x,y] = operator(neighbours_list)\n",
    "    return new_matrix"
   ]
  },
  {
   "cell_type": "code",
   "execution_count": 3,
   "metadata": {
    "scrolled": false
   },
   "outputs": [],
   "source": [
    "def find_char_regions_naive(img,div_color):\n",
    "\n",
    "    width, height  = img.shape[:2]\n",
    "    #Create matrix with reserved space area as img\n",
    "    region_matrix = [[0 for y in range(height)] for x in range(width)]\n",
    "    region_matrix = np.zeros(img.shape[:2])\n",
    "    equivalence_regions = {}\n",
    "    #count regions\n",
    "    n_regions = 0\n",
    "    \n",
    "    for x in range(width):\n",
    "        for y in range(height):\n",
    "            #look for darkish pixeles\n",
    "            if (img[x, y] >=[0, 0, 0]).all() and (img[x, y]< div_color).all():\n",
    "                # get the region number from north (up) or west (left) or create new region\n",
    "                region_w = region_matrix[x-1][y] if x > 0 else 0\n",
    "                region_n = region_matrix[x][y-1] if y > 0 else 0 \n",
    "                \n",
    "                \n",
    "                max_region = max(region_n, region_w) \n",
    "                \n",
    "                #check if any region exists\n",
    "                if max_region > 0:\n",
    "                    \n",
    "                    #get the oldest region (return same region if only one region)\n",
    "                    region_num = min(filter(lambda i: i > 0, (region_n, region_w)))            \n",
    "                    \n",
    "                    '''if both neighbours have regions take the smallest one(which is the oldest) and put it\n",
    "                    in the max region neighbour equivalences. because the max should encompass the small.\n",
    "                    \n",
    "                    if the max region isn't bigger it means that it was the only one found and it is\n",
    "                    comparing against itself so it shouldn't add itself to it's equivalances '''\n",
    "                    \n",
    "                    if max_region > region_num:\n",
    "                        if max_region in equivalence_regions:\n",
    "                            equivalence_regions[max_region].add(region_num)\n",
    "                        else:\n",
    "                            #create new set for this existing region\n",
    "                            equivalence_regions[max_region] = set((region_num,))\n",
    "                    \n",
    "                    #there is only one region so do nothing because it is already assigned in region_num var\n",
    "                    else:\n",
    "                        pass\n",
    "                \n",
    "                else: # new region was found so increment by 1 num of regions and set it to region_num var\n",
    "                    n_regions += 1\n",
    "                    region_num = n_regions\n",
    "\n",
    "                region_matrix[x][y] = region_num \n",
    "                \n",
    "    regions = {} \n",
    "    #Scan matrix_regions and assign all equivalent regions the same region value so they unite\n",
    "    for x in range(width):\n",
    "        for y in range(height):\n",
    "                region_num = region_matrix[x][y]\n",
    "                if region_num > 0:\n",
    "                    #traverse backward from eql to eql until first\n",
    "                    while region_num in equivalence_regions:\n",
    "                        region_num = min(equivalence_regions[region_num])\n",
    "\n",
    "\n",
    "                    # add region if not inserted previously or update it with new X,Y\n",
    "                    if region_num not in regions:\n",
    "                        regions[region_num] = Region(x, y)\n",
    "                    else:\n",
    "                        regions[region_num].add(x, y)\n",
    "\n",
    "    return list(regions.items())\n"
   ]
  },
  {
   "cell_type": "code",
   "execution_count": 4,
   "metadata": {},
   "outputs": [
    {
     "data": {
      "text/plain": [
       "<matplotlib.image.AxesImage at 0x7f1588ccf210>"
      ]
     },
     "execution_count": 4,
     "metadata": {},
     "output_type": "execute_result"
    },
    {
     "data": {
      "image/png": "[encoded data removed]",
      "text/plain": [
       "<Figure size 432x288 with 1 Axes>"
      ]
     },
     "metadata": {
      "needs_background": "light"
     },
     "output_type": "display_data"
    }
   ],
   "source": [
    "import os,sys\n",
    "\n",
    "%matplotlib inline\n",
    "from skimage import io\n",
    "from skimage.draw import rectangle_perimeter\n",
    "from skimage.transform import resize\n",
    "np.set_printoptions(threshold=sys.maxsize) \n",
    "\n",
    "filename = r\"/home/a/Desktop/Maya-Angelou-quote-720x380.jpg\"\n",
    "img = io.imread(filename)\n",
    "img =img[:,:,:3]/255\n",
    "lightest_color = img.reshape((img.shape[0]*img.shape[1], 3)).max(axis=0)\n",
    "div_color = lightest_color/2\n",
    "img = morph(img,lambda x: 0 if (x<div_color).any() else 1,1,1)  #dialate\n",
    "regions = find_char_regions_naive(img,div_color) \n",
    "for region in regions:\n",
    "    #get rectangle perimeter\n",
    "    x, y = rectangle_perimeter(region[1].box()[0], end=region[1].box()[1])\n",
    "    #replace values on perimeter with green marking\n",
    "    img[x-1,y-1] = [0/255,249/255,135/255]\n",
    "io.imshow(img) "
   ]
  },
  {
   "cell_type": "code",
   "execution_count": 5,
   "metadata": {},
   "outputs": [
    {
     "name": "stderr",
     "output_type": "stream",
     "text": [
      "/home/a/.virtualenvs/tensorflow/lib/python3.7/site-packages/IPython/html.py:14: ShimWarning: The `IPython.html` package has been deprecated since IPython 4.0. You should import from `notebook` instead. `IPython.html.widgets` has moved to `ipywidgets`.\n",
      "  \"`IPython.html.widgets` has moved to `ipywidgets`.\", ShimWarning)\n",
      "/home/a/.virtualenvs/tensorflow/lib/python3.7/site-packages/ipykernel_launcher.py:3: UserWarning: locate_profile has moved to the IPython.paths module since IPython 4.0.\n",
      "  This is separate from the ipykernel package so we can avoid doing imports until\n"
     ]
    },
    {
     "data": {
      "text/plain": [
       "{'width': 1024, 'height': 700, 'margin': 0.2}"
      ]
     },
     "execution_count": 5,
     "metadata": {},
     "output_type": "execute_result"
    }
   ],
   "source": [
    "from IPython.html.services.config import ConfigManager\n",
    "from IPython.utils.path import locate_profile\n",
    "cm = ConfigManager(profile_dir=locate_profile(get_ipython().profile))\n",
    "cm.update('livereveal', {'width': 1024, 'height': 700, 'margin': 0.2,})"
   ]
  }
 ],
 "metadata": {
  "kernelspec": {
   "display_name": "Python 3",
   "language": "python",
   "name": "python3"
  },
  "language_info": {
   "codemirror_mode": {
    "name": "ipython",
    "version": 3
   },
   "file_extension": ".py",
   "mimetype": "text/x-python",
   "name": "python",
   "nbconvert_exporter": "python",
   "pygments_lexer": "ipython3",
   "version": "3.7.5"
  }
 },
 "nbformat": 4,
 "nbformat_minor": 2
}
